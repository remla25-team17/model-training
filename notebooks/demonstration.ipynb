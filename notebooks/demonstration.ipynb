{
 "cells": [
  {
   "cell_type": "markdown",
   "id": "8a2e476a",
   "metadata": {},
   "source": [
    "# Sentiment Analysis Model Demonstration\n",
    "\n",
    "This notebook demonstrates how to use the trained sentiment analysis model from the `sentiment_model_training` package. Following cookiecutter data science principles, this notebook interfaces with the production code but doesn't contain exploration or development code."
   ]
  },
  {
   "cell_type": "code",
   "execution_count": 1,
   "id": "e9f1c530",
   "metadata": {},
   "outputs": [
    {
     "name": "stdout",
     "output_type": "stream",
     "text": [
      "Project root: c:\\Users\\marin\\OneDrive\\Documentos\\Tu Delft\\DSAIT\\Year 1\\Q4\\REMLA\\model-training\n"
     ]
    }
   ],
   "source": [
    "# Import necessary libraries\n",
    "import sys\n",
    "import os\n",
    "import pandas as pd\n",
    "import numpy as np\n",
    "import joblib\n",
    "import matplotlib.pyplot as plt\n",
    "\n",
    "# Add project root to path to import the sentiment_model_training package\n",
    "project_root = os.path.abspath(os.path.join(os.getcwd(), '..'))\n",
    "if project_root not in sys.path:\n",
    "    sys.path.append(project_root)\n",
    "    \n",
    "print(f\"Project root: {project_root}\")"
   ]
  },
  {
   "cell_type": "markdown",
   "id": "a81e63c2",
   "metadata": {},
   "source": [
    "## Loading the Trained Model\n",
    "\n",
    "First, let's load the trained model and vectorizer from the model directory."
   ]
  },
  {
   "cell_type": "code",
   "execution_count": 2,
   "id": "93c968e1",
   "metadata": {},
   "outputs": [
    {
     "name": "stdout",
     "output_type": "stream",
     "text": [
      "Model and vectorizer loaded successfully\n",
      "Model type: GaussianNB\n"
     ]
    }
   ],
   "source": [
    "# Define paths to model and vectorizer\n",
    "model_path = os.path.join(project_root, 'model', 'model.pkl')\n",
    "bag_of_words_path = os.path.join(project_root, 'model', 'bag_of_words.pkl')\n",
    "\n",
    "# Load model and vectorizer\n",
    "try:\n",
    "    model = joblib.load(model_path)\n",
    "    vectorizer = joblib.load(bag_of_words_path)\n",
    "    print(\"Model and vectorizer loaded successfully\")\n",
    "    print(f\"Model type: {type(model).__name__}\")\n",
    "except FileNotFoundError:\n",
    "    print(\"Model or vectorizer file not found. You may need to train the model first.\")\n",
    "    print(\"Let's run the training pipeline...\")\n",
    "    \n",
    "    # Import and run the pipeline steps\n",
    "    from sentiment_model_training.modeling.get_data import download_data\n",
    "    from sentiment_model_training.modeling.preprocess import preprocess_data\n",
    "    from sentiment_model_training.modeling.train import train_model\n",
    "    \n",
    "    print(\"Step 1: Downloading data...\")\n",
    "    download_data()\n",
    "    \n",
    "    print(\"Step 2: Preprocessing data...\")\n",
    "    preprocess_data()\n",
    "    \n",
    "    print(\"Step 3: Training model...\")\n",
    "    train_model()\n",
    "    \n",
    "    # Try loading again\n",
    "    try:\n",
    "        model = joblib.load(model_path)\n",
    "        vectorizer = joblib.load(bag_of_words_path)\n",
    "        print(\"Model and vectorizer loaded successfully after training\")\n",
    "        print(f\"Model type: {type(model).__name__}\")\n",
    "    except FileNotFoundError:\n",
    "        print(\"Failed to train and load the model\")\n",
    "        model = None\n",
    "        vectorizer = None"
   ]
  },
  {
   "cell_type": "markdown",
   "id": "6e5318dc",
   "metadata": {},
   "source": [
    "## Creating a Prediction Function\n",
    "\n",
    "Let's create a simple function to make predictions with our trained model."
   ]
  },
  {
   "cell_type": "code",
   "execution_count": 4,
   "id": "85c373bd",
   "metadata": {},
   "outputs": [
    {
     "name": "stdout",
     "output_type": "stream",
     "text": [
      "Review: The food was amazing and the service was excellent!\n",
      "Predicted sentiment: Negative (Confidence: 1.00)\n",
      "\n",
      "Review: Worst restaurant ever. Terrible food and rude staff.\n",
      "Predicted sentiment: Negative (Confidence: 1.00)\n",
      "\n",
      "Review: The ambiance was nice but the food was mediocre.\n",
      "Predicted sentiment: Negative (Confidence: 1.00)\n",
      "\n"
     ]
    }
   ],
   "source": [
    "def predict_sentiment(text, model=model, vectorizer=vectorizer):\n",
    "    \"\"\"\n",
    "    Predict sentiment of a given text.\n",
    "    \n",
    "    Args:\n",
    "        text (str): Review text to analyze\n",
    "        model: Trained classifier model\n",
    "        vectorizer: Trained bag of words vectorizer\n",
    "        \n",
    "    Returns:\n",
    "        tuple: (prediction, probability)\n",
    "    \"\"\"\n",
    "    if model is None or vectorizer is None:\n",
    "        return None, None\n",
    "        \n",
    "    # Convert text to features using the vectorizer\n",
    "    features = vectorizer.transform([text]).toarray()\n",
    "    \n",
    "    # Make prediction\n",
    "    prediction = model.predict(features)[0]\n",
    "    \n",
    "    # Get probability (if available)\n",
    "    try:\n",
    "        probability = model.predict_proba(features)[0]\n",
    "        prob_value = probability[1] if prediction == 1 else probability[0]\n",
    "    except:\n",
    "        prob_value = None\n",
    "        \n",
    "    return prediction, prob_value\n",
    "\n",
    "# Test the function\n",
    "if model is not None and vectorizer is not None:\n",
    "    test_reviews = [\n",
    "        \"The food was amazing and the service was excellent!\", \n",
    "        \"Worst restaurant ever. Terrible food and rude staff.\",\n",
    "        \"The ambiance was nice but the food was mediocre.\"\n",
    "    ]\n",
    "    \n",
    "    for review in test_reviews:\n",
    "        prediction, probability = predict_sentiment(review)\n",
    "        sentiment = \"Positive\" if prediction == 1 else \"Negative\"\n",
    "        prob_text = f\" (Confidence: {probability:.2f})\" if probability is not None else \"\"\n",
    "        \n",
    "        print(f\"Review: {review}\")\n",
    "        print(f\"Predicted sentiment: {sentiment}{prob_text}\\n\")"
   ]
  },
  {
   "cell_type": "markdown",
   "id": "6be042e2",
   "metadata": {},
   "source": [
    "## Evaluating the Model\n",
    "\n",
    "Let's use the evaluation module from our production code to check the model's performance."
   ]
  },
  {
   "cell_type": "code",
   "execution_count": 9,
   "id": "2ef48921",
   "metadata": {},
   "outputs": [
    {
     "name": "stdout",
     "output_type": "stream",
     "text": [
      "Evaluating model performance...\n",
      "\n",
      "Accuracy: 0.67\n",
      "Classification Report:\n",
      "              precision    recall  f1-score   support\n",
      "\n",
      "           0       0.58      0.87      0.69        78\n",
      "           1       0.84      0.51      0.63       102\n",
      "\n",
      "    accuracy                           0.67       180\n",
      "   macro avg       0.71      0.69      0.66       180\n",
      "weighted avg       0.72      0.67      0.66       180\n",
      "\n",
      "Confusion Matrix:\n",
      "[[68 10]\n",
      " [50 52]]\n",
      "Error evaluating the model: 'NoneType' object has no attribute 'items'\n"
     ]
    }
   ],
   "source": [
    "# Import the evaluation module\n",
    "from sentiment_model_training.modeling.evaluate import evaluate_model\n",
    "\n",
    "# Run the evaluation\n",
    "try:\n",
    "    print(\"Evaluating model performance...\\n\")\n",
    "    metrics = evaluate_model(data_path=\"../data\", model_path=\"../model\")\n",
    "    \n",
    "    # Print the metrics\n",
    "    for metric_name, value in metrics.items():\n",
    "        print(f\"{metric_name}: {value:.4f}\")\n",
    "        \n",
    "    # Create a simple visualization\n",
    "    plt.figure(figsize=(10, 6))\n",
    "    plt.bar(metrics.keys(), metrics.values())\n",
    "    plt.title('Model Performance Metrics')\n",
    "    plt.ylim(0, 1.0)\n",
    "    plt.xticks(rotation=45)\n",
    "    plt.tight_layout()\n",
    "    plt.show()\n",
    "    \n",
    "except Exception as e:\n",
    "    print(f\"Error evaluating the model: {str(e)}\")"
   ]
  },
  {
   "cell_type": "markdown",
   "id": "4bb1c3a9",
   "metadata": {},
   "source": [
    "## Interactive Sentiment Analysis Demo\n",
    "\n",
    "Below is a simple interactive demo where you can enter your own restaurant reviews and get sentiment predictions."
   ]
  },
  {
   "cell_type": "code",
   "execution_count": 10,
   "id": "cd88d48c",
   "metadata": {},
   "outputs": [],
   "source": [
    "# This would be more interactive in Jupyter but works as a basic example\n",
    "def run_interactive_demo():\n",
    "    if model is None or vectorizer is None:\n",
    "        print(\"Model or vectorizer not loaded. Cannot run demo.\")\n",
    "        return\n",
    "        \n",
    "    print(\"\\n=== Restaurant Review Sentiment Analysis Demo ===\\n\")\n",
    "    print(\"Enter restaurant reviews (or 'quit' to exit):\\n\")\n",
    "    \n",
    "    while True:\n",
    "        review = input(\"Review: \")\n",
    "        \n",
    "        if review.lower() == 'quit':\n",
    "            print(\"Exiting demo.\")\n",
    "            break\n",
    "            \n",
    "        prediction, probability = predict_sentiment(review)\n",
    "        sentiment = \"Positive\" if prediction == 1 else \"Negative\"\n",
    "        prob_text = f\" (Confidence: {probability:.2f})\" if probability is not None else \"\"\n",
    "        \n",
    "        print(f\"Predicted sentiment: {sentiment}{prob_text}\\n\")\n",
    "\n",
    "# Uncomment to run interactive demo\n",
    "# run_interactive_demo()"
   ]
  },
  {
   "cell_type": "markdown",
   "id": "edc0af90",
   "metadata": {},
   "source": [
    "## Batch Prediction Example\n",
    "\n",
    "Let's demonstrate how to process a batch of restaurant reviews using our model."
   ]
  },
  {
   "cell_type": "code",
   "execution_count": 12,
   "id": "91d6e286",
   "metadata": {},
   "outputs": [
    {
     "name": "stdout",
     "output_type": "stream",
     "text": [
      "Batch Prediction Results:\n",
      "\n",
      "                                              Review Sentiment_Label  \\\n",
      "0  The service was excellent and the food was del...        Negative   \n",
      "1  Waited over an hour for our food and it was co...        Negative   \n",
      "2               Great atmosphere and friendly staff.        Positive   \n",
      "3    The price was too high for such small portions.        Positive   \n",
      "4  Loved the dessert menu and will definitely com...        Positive   \n",
      "5  The restaurant was dirty and the bathrooms wer...        Negative   \n",
      "6  Amazing wine selection and knowledgeable somme...        Negative   \n",
      "7  Parking was difficult and the location is inco...        Negative   \n",
      "8        Vegetarian options were creative and tasty.        Positive   \n",
      "9  Too noisy, couldn't have a conversation during...        Negative   \n",
      "\n",
      "   Confidence  \n",
      "0         1.0  \n",
      "1         1.0  \n",
      "2         1.0  \n",
      "3         1.0  \n",
      "4         1.0  \n",
      "5         1.0  \n",
      "6         1.0  \n",
      "7         1.0  \n",
      "8         1.0  \n",
      "9         1.0  \n"
     ]
    },
    {
     "data": {
      "image/png": "[encoded data removed]",
      "text/plain": [
       "<Figure size 800x600 with 1 Axes>"
      ]
     },
     "metadata": {},
     "output_type": "display_data"
    }
   ],
   "source": [
    "# Create a sample dataframe with reviews\n",
    "sample_reviews = pd.DataFrame({\n",
    "    'Review': [\n",
    "        \"The service was excellent and the food was delicious.\",\n",
    "        \"Waited over an hour for our food and it was cold when it arrived.\",\n",
    "        \"Great atmosphere and friendly staff.\",\n",
    "        \"The price was too high for such small portions.\",\n",
    "        \"Loved the dessert menu and will definitely come back.\",\n",
    "        \"The restaurant was dirty and the bathrooms were disgusting.\",\n",
    "        \"Amazing wine selection and knowledgeable sommelier.\",\n",
    "        \"Parking was difficult and the location is inconvenient.\",\n",
    "        \"Vegetarian options were creative and tasty.\",\n",
    "        \"Too noisy, couldn't have a conversation during dinner.\"\n",
    "    ]\n",
    "})\n",
    "\n",
    "# Function to process a batch of reviews\n",
    "def predict_batch(reviews_df, text_column='Review', model=model, vectorizer=vectorizer):\n",
    "    if model is None or vectorizer is None:\n",
    "        print(\"Model or vectorizer not loaded. Cannot make predictions.\")\n",
    "        return None\n",
    "        \n",
    "    # Make a copy to avoid modifying the original\n",
    "    result_df = reviews_df.copy()\n",
    "    \n",
    "    # Transform reviews to features\n",
    "    features = vectorizer.transform(result_df[text_column]).toarray()\n",
    "    \n",
    "    # Make predictions\n",
    "    result_df['Sentiment'] = model.predict(features)\n",
    "    result_df['Sentiment_Label'] = result_df['Sentiment'].map({0: 'Negative', 1: 'Positive'})\n",
    "    \n",
    "    # Get probabilities if available\n",
    "    try:\n",
    "        probabilities = model.predict_proba(features)\n",
    "        result_df['Confidence'] = [prob[1] if pred == 1 else prob[0] \n",
    "                                 for prob, pred in zip(probabilities, result_df['Sentiment'])]\n",
    "    except:\n",
    "        pass\n",
    "        \n",
    "    return result_df\n",
    "\n",
    "# Process the sample reviews\n",
    "if model is not None and vectorizer is not None:\n",
    "    results = predict_batch(sample_reviews)\n",
    "    \n",
    "    if results is not None:\n",
    "        # Display results\n",
    "        print(\"Batch Prediction Results:\\n\")\n",
    "        \n",
    "        # Check if Confidence column was created\n",
    "        if 'Confidence' in results.columns:\n",
    "            display_cols = ['Review', 'Sentiment_Label', 'Confidence']\n",
    "        else:\n",
    "            display_cols = ['Review', 'Sentiment_Label']\n",
    "            \n",
    "        print(results[display_cols])\n",
    "        \n",
    "        # Plot the distribution of sentiments\n",
    "        plt.figure(figsize=(8, 6))\n",
    "        results['Sentiment_Label'].value_counts().plot(kind='bar')\n",
    "        plt.title('Distribution of Predicted Sentiments')\n",
    "        plt.xlabel('Sentiment')\n",
    "        plt.ylabel('Count')\n",
    "        plt.xticks(rotation=0)\n",
    "        plt.tight_layout()\n",
    "        plt.show()"
   ]
  },
  {
   "cell_type": "markdown",
   "id": "e63041ef",
   "metadata": {},
   "source": [
    "## Conclusion\n",
    "\n",
    "This notebook demonstrates how to use the trained sentiment analysis model from our production code. It showcases:\n",
    "\n",
    "1. Loading the trained model and vectorizer\n",
    "2. Making individual predictions\n",
    "3. Evaluating model performance\n",
    "4. Processing batches of reviews\n",
    "\n",
    "Unlike the exploration notebook, this demonstration focuses on using the already-developed production code rather than exploring data or developing new features. This separation of concerns follows cookiecutter data science best practices, keeping exploratory code separate from production code and demonstration."
   ]
  }
 ],
 "metadata": {
  "kernelspec": {
   "display_name": "venv",
   "language": "python",
   "name": "python3"
  },
  "language_info": {
   "codemirror_mode": {
    "name": "ipython",
    "version": 3
   },
   "file_extension": ".py",
   "mimetype": "text/x-python",
   "name": "python",
   "nbconvert_exporter": "python",
   "pygments_lexer": "ipython3",
   "version": "3.12.7"
  }
 },
 "nbformat": 4,
 "nbformat_minor": 5
}
